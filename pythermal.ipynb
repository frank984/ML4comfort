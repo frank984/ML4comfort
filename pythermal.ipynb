{
 "cells": [
  {
   "cell_type": "code",
   "execution_count": null,
   "id": "45a84042-0d2f-411b-932d-0d402ebceb42",
   "metadata": {},
   "outputs": [],
   "source": [
    "from pythermalcomfort.models import adaptive_ashrae\n",
    "results = adaptive_ashrae(tdb=25, tr=25, t_running_mean=20, v=0.1)\n",
    "print(results)"
   ]
  },
  {
   "cell_type": "code",
   "execution_count": null,
   "id": "7d87aa33-4609-4dc4-aeaf-c13e217140ff",
   "metadata": {},
   "outputs": [],
   "source": []
  }
 ],
 "metadata": {
  "kernelspec": {
   "display_name": "Python 3 (ipykernel)",
   "language": "python",
   "name": "python3"
  },
  "language_info": {
   "codemirror_mode": {
    "name": "ipython",
    "version": 3
   },
   "file_extension": ".py",
   "mimetype": "text/x-python",
   "name": "python",
   "nbconvert_exporter": "python",
   "pygments_lexer": "ipython3",
   "version": "3.11.6"
  }
 },
 "nbformat": 4,
 "nbformat_minor": 5
}
