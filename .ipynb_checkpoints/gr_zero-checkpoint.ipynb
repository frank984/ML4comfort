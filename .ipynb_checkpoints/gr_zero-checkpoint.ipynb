{
 "cells": [
  {
   "cell_type": "markdown",
   "id": "99e694f9",
   "metadata": {},
   "source": [
    "Test file"
   ]
  },
  {
   "cell_type": "markdown",
   "id": "c982e6f4-6cf7-45a3-abbf-12eda6f33335",
   "metadata": {},
   "source": [
    "# PROVA\n",
    "## Prova prova\n",
    "Sa sa"
   ]
  },
  {
   "cell_type": "code",
   "execution_count": 1,
   "id": "ebd4704c",
   "metadata": {},
   "outputs": [
    {
     "name": "stdout",
     "output_type": "stream",
     "text": [
      "hello world\n"
     ]
    }
   ],
   "source": [
    "print('hello world')"
   ]
  },
  {
   "cell_type": "code",
   "execution_count": null,
   "id": "02504df4-414a-4979-a7d8-c8721c106959",
   "metadata": {},
   "outputs": [],
   "source": []
  }
 ],
 "metadata": {
  "kernelspec": {
   "display_name": "Python 3 (ipykernel)",
   "language": "python",
   "name": "python3"
  },
  "language_info": {
   "codemirror_mode": {
    "name": "ipython",
    "version": 3
   },
   "file_extension": ".py",
   "mimetype": "text/x-python",
   "name": "python",
   "nbconvert_exporter": "python",
   "pygments_lexer": "ipython3",
   "version": "3.11.6"
  }
 },
 "nbformat": 4,
 "nbformat_minor": 5
}
